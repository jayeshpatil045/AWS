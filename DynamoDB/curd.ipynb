{
 "cells": [
  {
   "cell_type": "markdown",
   "metadata": {},
   "source": [
    "'''\n",
    "\n",
    "@Author: Jayesh Patil \n",
    "\n",
    "@Date: 22-10-24 \n",
    "\n",
    "@Title: CRUD operation using Python and DynamoDB\n",
    "\n",
    "'''\n"
   ]
  },
  {
   "cell_type": "code",
   "execution_count": 3,
   "metadata": {},
   "outputs": [
    {
     "name": "stdout",
     "output_type": "stream",
     "text": [
      "[{'AttributeName': 'par-key', 'KeyType': 'HASH'}]\n"
     ]
    }
   ],
   "source": [
    "import boto3\n",
    "\n",
    "dynamodb = boto3.client('dynamodb')\n",
    "response = dynamodb.describe_table(TableName='jp-curd')\n",
    "print(response['Table']['KeySchema'])\n"
   ]
  },
  {
   "cell_type": "markdown",
   "metadata": {},
   "source": [
    "Create (Insert an Item):"
   ]
  },
  {
   "cell_type": "code",
   "execution_count": 4,
   "metadata": {},
   "outputs": [
    {
     "name": "stdout",
     "output_type": "stream",
     "text": [
      "Item inserted successfully!\n"
     ]
    }
   ],
   "source": [
    "# Initialize DynamoDB resource\n",
    "dynamodb = boto3.resource('dynamodb')\n",
    "table = dynamodb.Table('jp-curd')\n",
    "\n",
    "# Insert a new item with the required partition key 'par-key'\n",
    "table.put_item(\n",
    "    Item={\n",
    "        'par-key': '123',  # Partition key (must be included and unique for each item)\n",
    "        'Name': 'John Doe',  # Additional attribute\n",
    "        'Age': 30            # Additional attribute\n",
    "    }\n",
    ")\n",
    "\n",
    "print(\"Item inserted successfully!\")\n"
   ]
  },
  {
   "cell_type": "code",
   "execution_count": 5,
   "metadata": {},
   "outputs": [
    {
     "name": "stdout",
     "output_type": "stream",
     "text": [
      "Item inserted successfully!\n"
     ]
    }
   ],
   "source": [
    "\n",
    "table.put_item(\n",
    "    Item = {\n",
    "        'par-key': '124',\n",
    "        'Name' : 'Jayesh Patil',\n",
    "        'Age': 22,\n",
    "        'clg':'RCPIT'\n",
    "    }\n",
    ")\n",
    "print(\"Item inserted successfully!\")"
   ]
  },
  {
   "cell_type": "markdown",
   "metadata": {},
   "source": [
    "Read (Get an Item):"
   ]
  },
  {
   "cell_type": "code",
   "execution_count": 9,
   "metadata": {},
   "outputs": [
    {
     "name": "stdout",
     "output_type": "stream",
     "text": [
      "{'Age': Decimal('30'), 'par-key': '123', 'Name': 'John Doe'}\n"
     ]
    }
   ],
   "source": [
    "response = table.get_item(\n",
    "    Key={\n",
    "        'par-key': '123'  # The partition key value of the item you want to retrieve\n",
    "    }\n",
    ")\n",
    "item = response.get('Item')\n",
    "print(item)\n"
   ]
  },
  {
   "cell_type": "markdown",
   "metadata": {},
   "source": [
    "Update (Modify an Item):"
   ]
  },
  {
   "cell_type": "code",
   "execution_count": 25,
   "metadata": {},
   "outputs": [
    {
     "name": "stdout",
     "output_type": "stream",
     "text": [
      "None\n",
      "Item updated successfully!\n"
     ]
    }
   ],
   "source": [
    "table.update_item(\n",
    "    Key={\n",
    "        'par-key': '123'  # Make sure this matches the partition key of the item\n",
    "    },\n",
    "    UpdateExpression=\"set #nm = :Name\",  # Using expression attribute name to avoid conflict with DynamoDB reserved keywords\n",
    "    ExpressionAttributeNames={  # If 'Name' is a reserved word, we map it here\n",
    "        '#nm': 'Name'\n",
    "    },\n",
    "    ExpressionAttributeValues={\n",
    "        ':Name': 'Mayur Thakare'\n",
    "    }\n",
    ")\n",
    "\n",
    "print(\"Item updated successfully!\")"
   ]
  },
  {
   "cell_type": "markdown",
   "metadata": {},
   "source": [
    "Delete (Remove an Item):"
   ]
  },
  {
   "cell_type": "code",
   "execution_count": 18,
   "metadata": {},
   "outputs": [
    {
     "name": "stdout",
     "output_type": "stream",
     "text": [
      "Item deleted successfully!\n"
     ]
    }
   ],
   "source": [
    "# Delete an item by partition key\n",
    "table.delete_item(\n",
    "    Key={\n",
    "        'par-key': '123'\n",
    "    }\n",
    ")\n",
    "print(\"Item deleted successfully!\")\n"
   ]
  },
  {
   "cell_type": "markdown",
   "metadata": {},
   "source": [
    "Query (Search Items by Partition Key):"
   ]
  },
  {
   "cell_type": "code",
   "execution_count": 24,
   "metadata": {},
   "outputs": [
    {
     "name": "stdout",
     "output_type": "stream",
     "text": [
      "{'clg': 'RCPIT', 'Age': Decimal('22'), 'par-key': '124', 'Name': 'Jayesh Patil'}\n"
     ]
    }
   ],
   "source": [
    "# Query items based on partition key\n",
    "response = table.query(\n",
    "    KeyConditionExpression=boto3.dynamodb.conditions.Key('par-key').eq('124')\n",
    ")\n",
    "items = response.get('Items')\n",
    "for item in items:\n",
    "    print(item)\n"
   ]
  },
  {
   "cell_type": "markdown",
   "metadata": {},
   "source": [
    "Scan (Get All Items in the Table):"
   ]
  },
  {
   "cell_type": "code",
   "execution_count": 26,
   "metadata": {},
   "outputs": [
    {
     "name": "stdout",
     "output_type": "stream",
     "text": [
      "{'Name': 'Mayur Thakare', 'par-key': '123'}\n",
      "{'clg': 'RCPIT', 'Age': Decimal('22'), 'par-key': '124', 'Name': 'Jayesh Patil'}\n"
     ]
    }
   ],
   "source": [
    "response = table.scan()\n",
    "\n",
    "# Extract and print the items\n",
    "items = response.get('Items')\n",
    "for item in items:\n",
    "    print(item)"
   ]
  },
  {
   "cell_type": "markdown",
   "metadata": {},
   "source": [
    "Batch Write (Insert Multiple Items):"
   ]
  },
  {
   "cell_type": "code",
   "execution_count": 29,
   "metadata": {},
   "outputs": [
    {
     "name": "stdout",
     "output_type": "stream",
     "text": [
      "Batch insert successful!\n"
     ]
    }
   ],
   "source": [
    "with table.batch_writer() as batch:\n",
    "    batch.put_item(Item={'par-key': '125', 'Name': 'Dip Kumar', 'Age': 22})\n",
    "    batch.put_item(Item={'par-key': '126', 'Name': 'Hitesh', 'Age': 21})\n",
    "\n",
    "print(\"Batch insert successful!\")"
   ]
  },
  {
   "cell_type": "code",
   "execution_count": 30,
   "metadata": {},
   "outputs": [
    {
     "name": "stdout",
     "output_type": "stream",
     "text": [
      "{'Age': Decimal('21'), 'par-key': '126', 'Name': 'Hitesh'}\n",
      "{'Name': 'Mayur Thakare', 'par-key': '123'}\n",
      "{'clg': 'RCPIT', 'Age': Decimal('22'), 'par-key': '124', 'Name': 'Jayesh Patil'}\n",
      "{'Age': Decimal('22'), 'par-key': '125', 'Name': 'Dip Kumar'}\n"
     ]
    }
   ],
   "source": [
    "response = table.scan()\n",
    "\n",
    "# Extract and print the items\n",
    "items = response.get('Items')\n",
    "for item in items:\n",
    "    print(item)"
   ]
  }
 ],
 "metadata": {
  "kernelspec": {
   "display_name": "Python 3",
   "language": "python",
   "name": "python3"
  },
  "language_info": {
   "codemirror_mode": {
    "name": "ipython",
    "version": 3
   },
   "file_extension": ".py",
   "mimetype": "text/x-python",
   "name": "python",
   "nbconvert_exporter": "python",
   "pygments_lexer": "ipython3",
   "version": "3.10.5"
  }
 },
 "nbformat": 4,
 "nbformat_minor": 2
}
