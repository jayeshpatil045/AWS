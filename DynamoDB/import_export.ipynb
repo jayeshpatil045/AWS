{
 "cells": [
  {
   "cell_type": "markdown",
   "metadata": {},
   "source": [
    "'''\n",
    "\n",
    "@Author: Jayesh Patil \n",
    "\n",
    "@Date: 22-10-24 \n",
    "\n",
    "@Title: Import and Export data using DynamoDB\n",
    "\n",
    "'''\n"
   ]
  },
  {
   "cell_type": "markdown",
   "metadata": {},
   "source": [
    "1.Export the data "
   ]
  },
  {
   "cell_type": "code",
   "execution_count": 4,
   "metadata": {},
   "outputs": [
    {
     "name": "stdout",
     "output_type": "stream",
     "text": [
      "Data exported to Pokemon.csv successfully!\n"
     ]
    }
   ],
   "source": [
    "import boto3\n",
    "import pandas as pd\n",
    "\n",
    "def export_dynamodb_to_csv(table_name, output_file):\n",
    "    \"\"\"\n",
    "    Description : \n",
    "        Exports data from a specified DynamoDB table to a CSV file.\n",
    "\n",
    "    Parameters:\n",
    "        table_name (str): The name of the DynamoDB table from which to export data.\n",
    "        output_file (str): The name of the output CSV file (including path) where the data will be saved.\n",
    "\n",
    "    Returns:\n",
    "        str: A success message indicating the file has been exported.\n",
    "    \"\"\"\n",
    "\n",
    "    # Initialize a session using Amazon DynamoDB\n",
    "    dynamodb = boto3.resource('dynamodb')\n",
    "\n",
    "    # Access the specified DynamoDB table\n",
    "    table = dynamodb.Table(table_name)\n",
    "\n",
    "    # Scan the table to retrieve all items\n",
    "    response = table.scan()\n",
    "    data = response['Items']\n",
    "\n",
    "    # Handle pagination in case there are more items than can be retrieved in one scan\n",
    "    while 'LastEvaluatedKey' in response:\n",
    "        response = table.scan(ExclusiveStartKey=response['LastEvaluatedKey'])\n",
    "        data.extend(response['Items'])\n",
    "\n",
    "    # Convert the data to a Pandas DataFrame\n",
    "    df = pd.DataFrame(data)\n",
    "\n",
    "    # Export the DataFrame to a CSV file\n",
    "    df.to_csv(output_file, index=False)\n",
    "\n",
    "    return f\"Data exported to {output_file} successfully!\"\n",
    "\n",
    "# Usage\n",
    "result = export_dynamodb_to_csv('jp-curd', 'Pokemon.csv')\n",
    "print(result)\n"
   ]
  },
  {
   "cell_type": "markdown",
   "metadata": {},
   "source": [
    "2.Import Data"
   ]
  },
  {
   "cell_type": "code",
   "execution_count": 5,
   "metadata": {},
   "outputs": [
    {
     "name": "stdout",
     "output_type": "stream",
     "text": [
      "Data exported to Pokemon.csv successfully!\n"
     ]
    }
   ],
   "source": [
    "import boto3\n",
    "import pandas as pd\n",
    "\n",
    "def import_csv_to_dynamodb(table_name, input_file):\n",
    "    \"\"\"\n",
    "    Description : \n",
    "        Imports data from a CSV file into a specified DynamoDB table.\n",
    "\n",
    "    Parameters:\n",
    "        table_name (str): The name of the DynamoDB table where the data will be imported.\n",
    "        input_file (str): The name of the input CSV file (including path) from which the data will be read.\n",
    "\n",
    "    Returns:\n",
    "        str: A success message indicating that the data has been imported.\n",
    "    \"\"\"\n",
    "\n",
    "    # Initialize a session using Amazon DynamoDB\n",
    "    dynamodb = boto3.resource('dynamodb')\n",
    "\n",
    "    # Access the specified DynamoDB table\n",
    "    table = dynamodb.Table(table_name)\n",
    "\n",
    "    # Read the CSV file into a DataFrame\n",
    "    df = pd.read_csv(input_file)\n",
    "\n",
    "    # Loop through the DataFrame and insert items into DynamoDB\n",
    "    for index, row in df.iterrows():\n",
    "        item = row.to_dict()  # Convert row to dictionary\n",
    "        table.put_item(Item=item)\n",
    "\n",
    "    return \"Data imported successfully!\"\n",
    "\n",
    "# Usage\n",
    "result = import_csv_to_dynamodb('jp-curd', 'input.csv')\n",
    "print(result)\n"
   ]
  }
 ],
 "metadata": {
  "kernelspec": {
   "display_name": "Python 3",
   "language": "python",
   "name": "python3"
  },
  "language_info": {
   "codemirror_mode": {
    "name": "ipython",
    "version": 3
   },
   "file_extension": ".py",
   "mimetype": "text/x-python",
   "name": "python",
   "nbconvert_exporter": "python",
   "pygments_lexer": "ipython3",
   "version": "3.10.5"
  }
 },
 "nbformat": 4,
 "nbformat_minor": 2
}
